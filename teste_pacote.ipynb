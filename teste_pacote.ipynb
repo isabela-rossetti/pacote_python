{
  "nbformat": 4,
  "nbformat_minor": 0,
  "metadata": {
    "colab": {
      "provenance": [],
      "authorship_tag": "ABX9TyPc0AFwpVybSqlWiEYNDQ7R",
      "include_colab_link": true
    },
    "kernelspec": {
      "name": "python3",
      "display_name": "Python 3"
    },
    "language_info": {
      "name": "python"
    }
  },
  "cells": [
    {
      "cell_type": "markdown",
      "metadata": {
        "id": "view-in-github",
        "colab_type": "text"
      },
      "source": [
        "<a href=\"https://colab.research.google.com/github/isabela-rossetti/pacote_python/blob/main/teste_pacote.ipynb\" target=\"_parent\"><img src=\"https://colab.research.google.com/assets/colab-badge.svg\" alt=\"Open In Colab\"/></a>"
      ]
    },
    {
      "cell_type": "code",
      "source": [
        "pip install calculadorasalario"
      ],
      "metadata": {
        "colab": {
          "base_uri": "https://localhost:8080/"
        },
        "id": "j2YTue_Hqc7O",
        "outputId": "80bc6c57-eaa2-453f-f95f-a1335b35d637"
      },
      "execution_count": null,
      "outputs": [
        {
          "output_type": "stream",
          "name": "stdout",
          "text": [
            "Looking in indexes: https://pypi.org/simple, https://us-python.pkg.dev/colab-wheels/public/simple/\n",
            "Collecting calculadorasalario\n",
            "  Downloading calculadorasalario-0.0.1.tar.gz (2.2 kB)\n",
            "Building wheels for collected packages: calculadorasalario\n",
            "  Building wheel for calculadorasalario (setup.py) ... \u001b[?25l\u001b[?25hdone\n",
            "  Created wheel for calculadorasalario: filename=calculadorasalario-0.0.1-py3-none-any.whl size=2608 sha256=b9ab17000b1c1e480ff62ea33495fb2041d49e9408e816a7c92e51d80b414300\n",
            "  Stored in directory: /root/.cache/pip/wheels/3a/4b/4b/4418713c337ca5a0c0c6ac9b01c1bd127b5947ff2809fea5b2\n",
            "Successfully built calculadorasalario\n",
            "Installing collected packages: calculadorasalario\n",
            "Successfully installed calculadorasalario-0.0.1\n"
          ]
        }
      ]
    },
    {
      "cell_type": "code",
      "source": [
        "#Uso do pacote\n",
        "from calculosalario import calcpagamento"
      ],
      "metadata": {
        "id": "qn4wvbOqqrsk"
      },
      "execution_count": 6,
      "outputs": []
    },
    {
      "cell_type": "code",
      "source": [
        "#calcular_pagamento (quantidade de horas trabalhadas, valor da hora)\n",
        "calcpagamento.calcular_pagamento(220,20)"
      ],
      "metadata": {
        "colab": {
          "base_uri": "https://localhost:8080/"
        },
        "id": "JDY8UO6erOzB",
        "outputId": "2ae02ce1-c266-4a90-b925-2fea3e065b7f"
      },
      "execution_count": 7,
      "outputs": [
        {
          "output_type": "execute_result",
          "data": {
            "text/plain": [
              "6200.0"
            ]
          },
          "metadata": {},
          "execution_count": 7
        }
      ]
    }
  ]
}